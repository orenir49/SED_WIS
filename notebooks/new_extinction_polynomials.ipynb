{
 "cells": [
  {
   "cell_type": "markdown",
   "metadata": {},
   "source": [
    "# Imports"
   ]
  },
  {
   "cell_type": "code",
   "execution_count": 1,
   "metadata": {},
   "outputs": [],
   "source": [
    "import numpy as np\n",
    "from glob import glob\n",
    "import pandas as pd\n",
    "from astropy.table import Table\n",
    "from tqdm import tqdm\n",
    "from dustapprox.models import PolynomialModel,PrecomputedModel,polynomial\n",
    "from dustapprox.io import svo\n",
    "from dustapprox.extinction import F99\n",
    "from pyphot.astropy.sandbox import UnitFilter"
   ]
  },
  {
   "cell_type": "markdown",
   "metadata": {},
   "source": [
    "# Filter definition (or query from SVO filter service)\n",
    "Generally just query from SVO (first line).\n",
    "In my example, I needed to massage the passbands to get the filters I needed."
   ]
  },
  {
   "cell_type": "code",
   "execution_count": 2,
   "metadata": {},
   "outputs": [],
   "source": [
    "filt = svo.get_svo_passbands(['HST/ACS_SBC.f115lp','HST/ACS_SBC.f125lp','HST/ACS_SBC.f140lp','HST/ACS_SBC.f150lp','HST/ACS_SBC.f165lp'])\n",
    "wave = np.concatenate([filt[0].wavelength, filt[1].wavelength, filt[2].wavelength, filt[3].wavelength, filt[4].wavelength])\n",
    "wave = np.unique(wave)\n",
    "\n",
    "t115 = np.interp(wave, filt[0].wavelength, filt[0].transmit, left=0, right=0)\n",
    "t125 = np.interp(wave, filt[1].wavelength, filt[1].transmit, left=0, right=0)\n",
    "t140 = np.interp(wave, filt[2].wavelength, filt[2].transmit, left=0, right=0)\n",
    "t150 = np.interp(wave, filt[3].wavelength, filt[3].transmit, left=0, right=0)\n",
    "t165 = np.interp(wave, filt[4].wavelength, filt[4].transmit, left=0, right=0)\n",
    "\n",
    "h1 = UnitFilter(wave, t115-t125, name='HST/ACS_SBC.H1')\n",
    "h2 = UnitFilter(wave, t125-t140, name='HST/ACS_SBC.H2')\n",
    "h3 = UnitFilter(wave, t140-t150, name='HST/ACS_SBC.H3')\n",
    "h4 = UnitFilter(wave, t150-t165, name='HST/ACS_SBC.H4')\n",
    "passbands = [h1, h2, h3, h4]"
   ]
  },
  {
   "cell_type": "markdown",
   "metadata": {},
   "source": [
    "# Integrate (reddened) model spectra over passbands\n",
    "This creates the grid for polynomial fitting. Can take some time if using many filters or a large grid\n",
    "* Errors arise in dustapprox scripts 'extinction.py' and 'svo.py'. Need to fix manually.\n",
    "* Download the model spectra from SVO, or ask Oren.\n",
    "* Run this only once- afterwards can read the results from saved file."
   ]
  },
  {
   "cell_type": "code",
   "execution_count": 43,
   "metadata": {},
   "outputs": [
    {
     "name": "stderr",
     "output_type": "stream",
     "text": [
      "100%|██████████| 51/51 [00:02<00:00, 20.90it/s]\n"
     ]
    }
   ],
   "source": [
    "models = glob('../SEDer/models/kurucz_spectra/*.fl.dat.txt')\n",
    "apfields = ['teff', 'logg', 'feh']\n",
    "extc = F99()\n",
    "Rv = 3.1\n",
    "Av = np.concatenate([np.arange(0,0.55,0.1),np.arange(0.55,1.0,0.2),np.arange(1.1,5,0.5)])\n",
    "\n",
    "\n",
    "logs = []\n",
    "for fname in tqdm(models):\n",
    "    data = svo.spectra_file_reader(fname)\n",
    "    # extract model relevant information\n",
    "    lamb_unit, flux_unit = svo.get_svo_sprectum_units(data)\n",
    "    lamb = data['data']['WAVELENGTH'].values * lamb_unit\n",
    "    flux = data['data']['FLUX'].values * flux_unit\n",
    "    apvalues = [data[k]['value'] for k in apfields]\n",
    "\n",
    "    # wavelength definition varies between models\n",
    "    alambda_per_av = extc(lamb, 1.0, Rv=3.1)\n",
    "\n",
    "    # Dust magnitudes\n",
    "    columns = apfields + ['passband', 'mag0', 'mag', 'A0', 'Ax']\n",
    "    for pk in passbands:\n",
    "        mag0 = -2.5 * np.log10(pk.get_flux(lamb, flux).value)\n",
    "        # we redo av = 0, but it's cheap, allows us to use the same code\n",
    "        for av_val in Av:\n",
    "            new_flux = flux * np.exp(- alambda_per_av * av_val)\n",
    "            mag = -2.5 * np.log10(pk.get_flux(lamb, new_flux).value)\n",
    "            delta = (mag - mag0)\n",
    "            logs.append(apvalues + [pk.name, mag0, mag, av_val, delta])\n",
    "\n",
    "logs = pd.DataFrame.from_records(logs, columns=columns)\n",
    "\n",
    "logs.to_csv('my_grid.csv', index=False)"
   ]
  },
  {
   "cell_type": "markdown",
   "metadata": {},
   "source": [
    "# Define table\n",
    "My table is good for 3rd degree polynomial, and for 'passbands' vector that corresponds to a single instruments. For passbands from multiple instruments, or higher degree polynomials, modify this cell."
   ]
  },
  {
   "cell_type": "code",
   "execution_count": 44,
   "metadata": {},
   "outputs": [],
   "source": [
    "\n",
    "logs = pd.read_csv('my_grid.csv')\n",
    "apfields = ['teff','logg','feh']\n",
    "extc = F99()\n",
    "Rv = 3.1\n",
    "Av = np.arange(0,5,0.1)\n",
    "\n",
    "# Define the table data\n",
    "\n",
    "data = Table(\n",
    "    {\n",
    "        'passband': [pb.name for pb in passbands],\n",
    "        '1': np.full_like(passbands, np.nan),\n",
    "        'A0': np.full_like(passbands, np.nan),\n",
    "        'teffnorm': np.full_like(passbands, np.nan),\n",
    "        'A0^2': np.full_like(passbands, np.nan),\n",
    "        'A0 teffnorm': np.full_like(passbands, np.nan),\n",
    "        'teffnorm^2': np.full_like(passbands, np.nan),  \n",
    "        'A0^3': np.full_like(passbands, np.nan),\n",
    "        'A0^2 teffnorm': np.full_like(passbands, np.nan),\n",
    "        'A0 teffnorm^2': np.full_like(passbands, np.nan),\n",
    "        'teffnorm^3': np.full_like(passbands, np.nan),\n",
    "        # 'A0^4': np.full_like(passbands, np.nan),\n",
    "        # 'A0^3 teffnorm': np.full_like(passbands, np.nan),\n",
    "        # 'A0^2 teffnorm^2': np.full_like(passbands, np.nan),\n",
    "        # 'A0 teffnorm^3': np.full_like(passbands, np.nan),\n",
    "        # 'teffnorm^4': np.full_like(passbands, np.nan),\n",
    "        'mae': np.full_like(passbands, np.nan),\n",
    "        'rmse': np.full_like(passbands, np.nan),\n",
    "        'mean_residuals': np.full_like(passbands, np.nan),\n",
    "        'std_residuals': np.full_like(passbands, np.nan),\n",
    "    }\n",
    ")\n",
    "\n",
    "# Set column data types explicitly\n",
    "for col in data.colnames:\n",
    "    if col != \"passband\":  # Keep 'passband' as a string\n",
    "        data[col] = data[col].astype('float64')\n",
    "\n",
    "# Define metadata (corresponding to your `meta` section)\n",
    "data.meta = {\n",
    "    'extinction': {\n",
    "        'source': 'Fitzpatrick (1999)',\n",
    "        'R0': [3.1, 3.1],\n",
    "        'A0': [Av.min(), Av.max()]\n",
    "    },\n",
    "    'atmosphere': {\n",
    "        'source': 'Kurucz (ODFNEW/NOVER 2003)',\n",
    "        'teff': [int(logs['teff'].min()), int(logs['teff'].max())],\n",
    "        'logg': [logs['logg'].min(), logs['logg'].max()],\n",
    "        'feh': [logs['feh'].min(), logs['feh'].max()],\n",
    "        'alpha': [0.0, 0.0]\n",
    "    },\n",
    "    'comment': 'teffnorm = teff / 5040; predicts kx = Ax / A0',\n",
    "    'model': {\n",
    "        'kind': 'polynomial',\n",
    "        'degree': 3,\n",
    "        'interaction_only': False,\n",
    "        'include_bias': True,\n",
    "        'feature_names': ['A0', 'teffnorm']\n",
    "    }\n",
    "}"
   ]
  },
  {
   "cell_type": "markdown",
   "metadata": {},
   "source": [
    "# Fit the grid to polynomials\n",
    "Error arises in dustapprox polynomial.py, function approx_model. Need to fix manually."
   ]
  },
  {
   "cell_type": "code",
   "execution_count": 5,
   "metadata": {},
   "outputs": [],
   "source": [
    "for i,pb in enumerate(passbands):\n",
    "    fit_res = polynomial.approx_model(r=logs,passband=pb.name,degree=3,input_parameters=['teff','A0'])\n",
    "\n",
    "    for j in range(1,len(fit_res['coefficients'])):\n",
    "        data[i][j] = fit_res['coefficients'][j-1]\n",
    "\n",
    "# Write to an ECSV file\n",
    "data.write('custom_output.ecsv', format='ascii.ecsv', overwrite=True,delimiter=',')"
   ]
  },
  {
   "cell_type": "markdown",
   "metadata": {},
   "source": [
    "# Attempt for my own polynomial fit"
   ]
  },
  {
   "cell_type": "code",
   "execution_count": 56,
   "metadata": {},
   "outputs": [],
   "source": [
    "for i,p in enumerate(passbands):\n",
    "    passband = p.name\n",
    "    x = logs[logs['passband']==passband]['A0']\n",
    "    y = logs[logs['passband']==passband]['teff']/5040\n",
    "    z = logs[logs['passband']==passband]['Ax']\n",
    "\n",
    "    # Define the design matrix up to 3th order with cross terms\n",
    "    xy = x * y\n",
    "    x2y = (x**2) * y\n",
    "    xy2 = x * (y**2)\n",
    "\n",
    "    X = np.vstack([np.ones_like(x),x,y,x**2,xy,y**2,x**3,x2y,xy2,y**3]).T\n",
    "\n",
    "\n",
    "    # Fit the model using np.linalg.lstsq\n",
    "    coeffs, _, _, _ = np.linalg.lstsq(X, z, rcond=None)\n",
    "\n",
    "\n",
    "    # Make predictions\n",
    "    z_pred = X @ coeffs\n",
    "\n",
    "    # Calculate residuals and MSE\n",
    "    residuals = z - z_pred\n",
    "\n",
    "    # Error metrics\n",
    "    mae = np.mean(np.abs(residuals))  # Mean Absolute Error\n",
    "    mse = np.mean(residuals**2)       # Mean Squared Error\n",
    "    rmse = np.sqrt(mse)               # Root Mean Squared Error\n",
    "    mean_residuals = np.mean(residuals)\n",
    "    std_residuals = np.std(residuals)\n",
    "\n",
    "    # Write coefficients and error metrics to table\n",
    "    \n",
    "    for j in range(1,len(coeffs)+1):\n",
    "        data[i][j] = coeffs[j-1]\n",
    "    data[i]['mae'] = mae\n",
    "    data[i]['rmse'] = rmse\n",
    "    data[i]['mean_residuals'] = mean_residuals\n",
    "    data[i]['std_residuals'] = std_residuals\n",
    "    \n",
    "\n",
    "    # Display results\n",
    "    # print(\"Fitted coefficients:\", coeffs)\n",
    "    # print(\"Mean Absolute Error (MAE):\", mae)\n",
    "    # print(\"Root Mean Squared Error (RMSE):\", rmse)\n",
    "    # print(\"Mean of Residuals:\", mean_residuals)\n",
    "    # print(\"Standard Deviation of Residuals:\", std_residuals.round(2))"
   ]
  },
  {
   "cell_type": "code",
   "execution_count": 58,
   "metadata": {},
   "outputs": [],
   "source": [
    "data.write('custom_output.ecsv', format='ascii.ecsv', overwrite=True,delimiter=',')"
   ]
  },
  {
   "cell_type": "markdown",
   "metadata": {},
   "source": [
    "# Move output to dustapprox library "
   ]
  },
  {
   "cell_type": "code",
   "execution_count": 59,
   "metadata": {},
   "outputs": [
    {
     "data": {
      "text/plain": [
       "'../.venv/Lib/site-packages/dustapprox/data/precomputed/polynomial/f99/kurucz/hst_kurucz_f99_a0_teff.ecsv'"
      ]
     },
     "execution_count": 59,
     "metadata": {},
     "output_type": "execute_result"
    }
   ],
   "source": [
    "import shutil\n",
    "\n",
    "old_path = 'custom_output.ecsv'\n",
    "new_path = '../.venv/Lib/site-packages/dustapprox/data/precomputed/polynomial/f99/kurucz/hst_kurucz_f99_a0_teff.ecsv'\n",
    "\n",
    "shutil.move(old_path, new_path)"
   ]
  },
  {
   "cell_type": "markdown",
   "metadata": {},
   "source": [
    "# Verify readable"
   ]
  },
  {
   "cell_type": "code",
   "execution_count": 60,
   "metadata": {},
   "outputs": [
    {
     "data": {
      "text/plain": [
       "[{'extinction': {'A0': [0.0, 4.9],\n",
       "   'R0': [3.1, 3.1],\n",
       "   'source': 'Fitzpatrick (1999)'},\n",
       "  'atmosphere': {'alpha': [0.0, 0.0],\n",
       "   'feh': [0.0, 0.0],\n",
       "   'logg': [4.0, 4.0],\n",
       "   'source': 'Kurucz (ODFNEW/NOVER 2003)',\n",
       "   'teff': [3500, 25000]},\n",
       "  'comment': 'teffnorm = teff / 5040; predicts kx = Ax / A0',\n",
       "  'model': {'degree': 3,\n",
       "   'feature_names': ['A0', 'teffnorm'],\n",
       "   'include_bias': True,\n",
       "   'interaction_only': False,\n",
       "   'kind': 'polynomial'},\n",
       "  'passbands': ['HST/ACS_SBC.H1',\n",
       "   'HST/ACS_SBC.H2',\n",
       "   'HST/ACS_SBC.H3',\n",
       "   'HST/ACS_SBC.H4'],\n",
       "  'filename': 'c:\\\\Users\\\\oreni\\\\Documents\\\\code\\\\SED\\\\.venv\\\\Lib\\\\site-packages\\\\dustapprox\\\\data\\\\precomputed\\\\polynomial\\\\f99\\\\kurucz\\\\hst_kurucz_f99_a0_teff.ecsv'}]"
      ]
     },
     "execution_count": 60,
     "metadata": {},
     "output_type": "execute_result"
    }
   ],
   "source": [
    "lib = PrecomputedModel()\n",
    "lib.find('hst')"
   ]
  }
 ],
 "metadata": {
  "kernelspec": {
   "display_name": ".venv",
   "language": "python",
   "name": "python3"
  },
  "language_info": {
   "codemirror_mode": {
    "name": "ipython",
    "version": 3
   },
   "file_extension": ".py",
   "mimetype": "text/x-python",
   "name": "python",
   "nbconvert_exporter": "python",
   "pygments_lexer": "ipython3",
   "version": "3.11.9"
  }
 },
 "nbformat": 4,
 "nbformat_minor": 2
}
